{
 "cells": [
  {
   "cell_type": "code",
   "execution_count": 99,
   "metadata": {},
   "outputs": [],
   "source": [
    "import pandas as pd\n",
    "import matplotlib.pyplot as plt\n",
    "prices = pd.read_csv(\"WTI_price.csv\", na_values = (\"NaN\"))"
   ]
  },
  {
   "cell_type": "markdown",
   "metadata": {},
   "source": [
    "Let's do some exploration and transform the data into something we can understand."
   ]
  },
  {
   "cell_type": "code",
   "execution_count": 3,
   "metadata": {},
   "outputs": [
    {
     "data": {
      "text/html": [
       "<div>\n",
       "<style scoped>\n",
       "    .dataframe tbody tr th:only-of-type {\n",
       "        vertical-align: middle;\n",
       "    }\n",
       "\n",
       "    .dataframe tbody tr th {\n",
       "        vertical-align: top;\n",
       "    }\n",
       "\n",
       "    .dataframe thead th {\n",
       "        text-align: right;\n",
       "    }\n",
       "</style>\n",
       "<table border=\"1\" class=\"dataframe\">\n",
       "  <thead>\n",
       "    <tr style=\"text-align: right;\">\n",
       "      <th></th>\n",
       "      <th>Date</th>\n",
       "      <th>Cushing, OK WTI Spot Price FOB (Dollars per Barrel)</th>\n",
       "    </tr>\n",
       "  </thead>\n",
       "  <tbody>\n",
       "    <tr>\n",
       "      <th>0</th>\n",
       "      <td>Jan 02, 1986</td>\n",
       "      <td>25.56</td>\n",
       "    </tr>\n",
       "    <tr>\n",
       "      <th>1</th>\n",
       "      <td>Jan 03, 1986</td>\n",
       "      <td>26.00</td>\n",
       "    </tr>\n",
       "    <tr>\n",
       "      <th>2</th>\n",
       "      <td>Jan 06, 1986</td>\n",
       "      <td>26.53</td>\n",
       "    </tr>\n",
       "    <tr>\n",
       "      <th>3</th>\n",
       "      <td>Jan 07, 1986</td>\n",
       "      <td>25.85</td>\n",
       "    </tr>\n",
       "    <tr>\n",
       "      <th>4</th>\n",
       "      <td>Jan 08, 1986</td>\n",
       "      <td>25.87</td>\n",
       "    </tr>\n",
       "  </tbody>\n",
       "</table>\n",
       "</div>"
      ],
      "text/plain": [
       "           Date  Cushing, OK WTI Spot Price FOB (Dollars per Barrel)\n",
       "0  Jan 02, 1986                                              25.56  \n",
       "1  Jan 03, 1986                                              26.00  \n",
       "2  Jan 06, 1986                                              26.53  \n",
       "3  Jan 07, 1986                                              25.85  \n",
       "4  Jan 08, 1986                                              25.87  "
      ]
     },
     "execution_count": 3,
     "metadata": {},
     "output_type": "execute_result"
    }
   ],
   "source": [
    "prices.head()"
   ]
  },
  {
   "cell_type": "code",
   "execution_count": 56,
   "metadata": {},
   "outputs": [],
   "source": [
    "dailies = prices['Cushing, OK WTI Spot Price FOB (Dollars per Barrel)']"
   ]
  },
  {
   "cell_type": "markdown",
   "metadata": {},
   "source": [
    "Here we're converting the data into the index by which we can sort/arrange the data."
   ]
  },
  {
   "cell_type": "code",
   "execution_count": 100,
   "metadata": {},
   "outputs": [],
   "source": [
    "prices.index = pd.to_datetime(prices['Date'])"
   ]
  },
  {
   "cell_type": "code",
   "execution_count": 101,
   "metadata": {},
   "outputs": [],
   "source": [
    "prices.drop('Date', axis = 1, inplace=True)"
   ]
  },
  {
   "cell_type": "code",
   "execution_count": 7,
   "metadata": {},
   "outputs": [
    {
     "data": {
      "text/html": [
       "<div>\n",
       "<style scoped>\n",
       "    .dataframe tbody tr th:only-of-type {\n",
       "        vertical-align: middle;\n",
       "    }\n",
       "\n",
       "    .dataframe tbody tr th {\n",
       "        vertical-align: top;\n",
       "    }\n",
       "\n",
       "    .dataframe thead th {\n",
       "        text-align: right;\n",
       "    }\n",
       "</style>\n",
       "<table border=\"1\" class=\"dataframe\">\n",
       "  <thead>\n",
       "    <tr style=\"text-align: right;\">\n",
       "      <th></th>\n",
       "      <th>Cushing, OK WTI Spot Price FOB (Dollars per Barrel)</th>\n",
       "    </tr>\n",
       "    <tr>\n",
       "      <th>Date</th>\n",
       "      <th></th>\n",
       "    </tr>\n",
       "  </thead>\n",
       "  <tbody>\n",
       "    <tr>\n",
       "      <th>1986-01-02</th>\n",
       "      <td>25.56</td>\n",
       "    </tr>\n",
       "    <tr>\n",
       "      <th>1986-01-03</th>\n",
       "      <td>26.00</td>\n",
       "    </tr>\n",
       "    <tr>\n",
       "      <th>1986-01-06</th>\n",
       "      <td>26.53</td>\n",
       "    </tr>\n",
       "    <tr>\n",
       "      <th>1986-01-07</th>\n",
       "      <td>25.85</td>\n",
       "    </tr>\n",
       "    <tr>\n",
       "      <th>1986-01-08</th>\n",
       "      <td>25.87</td>\n",
       "    </tr>\n",
       "  </tbody>\n",
       "</table>\n",
       "</div>"
      ],
      "text/plain": [
       "            Cushing, OK WTI Spot Price FOB (Dollars per Barrel)\n",
       "Date                                                           \n",
       "1986-01-02                                              25.56  \n",
       "1986-01-03                                              26.00  \n",
       "1986-01-06                                              26.53  \n",
       "1986-01-07                                              25.85  \n",
       "1986-01-08                                              25.87  "
      ]
     },
     "execution_count": 7,
     "metadata": {},
     "output_type": "execute_result"
    }
   ],
   "source": [
    "prices.head()"
   ]
  },
  {
   "cell_type": "markdown",
   "metadata": {},
   "source": [
    "Let's plot the data."
   ]
  },
  {
   "cell_type": "code",
   "execution_count": 8,
   "metadata": {},
   "outputs": [
    {
     "data": {
      "image/png": "[encoded data removed]",
      "text/plain": [
       "<Figure size 864x576 with 1 Axes>"
      ]
     },
     "metadata": {
      "needs_background": "light"
     },
     "output_type": "display_data"
    }
   ],
   "source": [
    "from pandas.plotting import register_matplotlib_converters\n",
    "register_matplotlib_converters()\n",
    "plt.figure(figsize = (12,8))\n",
    "plt.plot(prices)\n",
    "plt.title(\"WTI Crude Oil Prices\")\n",
    "plt.xlabel(\"Date\")\n",
    "plt.ylabel(\"Price in USD\")\n",
    "plt.show()"
   ]
  },
  {
   "cell_type": "markdown",
   "metadata": {},
   "source": [
    "Let's clean up the data and put it into a neat dataframe. For exploratory purposes, let's use the imports, exports, and consumption columns."
   ]
  },
  {
   "cell_type": "code",
   "execution_count": 9,
   "metadata": {},
   "outputs": [],
   "source": [
    "imports = pd.read_csv(\"Imports.csv\", na_values = (\"NaN\"))\n",
    "exports = pd.read_csv(\"Exports.csv\", na_values = (\"NaN\"))\n",
    "consumption = pd.read_csv(\"Consumption.csv\", na_values = (\"NaN\"))\n",
    "imports.index = pd.to_datetime(imports['Date'])\n",
    "exports.index = pd.to_datetime(exports['Date'])\n",
    "consumption.index = pd.to_datetime(consumption['Date'])\n",
    "imports.drop('Date', axis = 1, inplace=True)\n",
    "exports.drop('Date', axis = 1, inplace=True)\n",
    "consumption.drop('Date', axis = 1, inplace=True)"
   ]
  },
  {
   "cell_type": "code",
   "execution_count": 10,
   "metadata": {},
   "outputs": [],
   "source": [
    "model_data_predictors = pd.DataFrame(data = (imports[\"Weekly U.S. Commercial Crude Oil Imports Excluding SPR  (Thousand Barrels per Day)\"], exports['Weekly U.S. Exports of Crude Oil and Petroleum Products  (Thousand Barrels per Day)'], consumption['Weekly U.S. Product Supplied of Petroleum Products  (Thousand Barrels per Day)'])).transpose()"
   ]
  },
  {
   "cell_type": "code",
   "execution_count": 11,
   "metadata": {
    "scrolled": true
   },
   "outputs": [
    {
     "data": {
      "text/html": [
       "<div>\n",
       "<style scoped>\n",
       "    .dataframe tbody tr th:only-of-type {\n",
       "        vertical-align: middle;\n",
       "    }\n",
       "\n",
       "    .dataframe tbody tr th {\n",
       "        vertical-align: top;\n",
       "    }\n",
       "\n",
       "    .dataframe thead th {\n",
       "        text-align: right;\n",
       "    }\n",
       "</style>\n",
       "<table border=\"1\" class=\"dataframe\">\n",
       "  <thead>\n",
       "    <tr style=\"text-align: right;\">\n",
       "      <th></th>\n",
       "      <th>Weekly U.S. Commercial Crude Oil Imports Excluding SPR  (Thousand Barrels per Day)</th>\n",
       "      <th>Weekly U.S. Exports of Crude Oil and Petroleum Products  (Thousand Barrels per Day)</th>\n",
       "      <th>Weekly U.S. Product Supplied of Petroleum Products  (Thousand Barrels per Day)</th>\n",
       "    </tr>\n",
       "    <tr>\n",
       "      <th>Date</th>\n",
       "      <th></th>\n",
       "      <th></th>\n",
       "      <th></th>\n",
       "    </tr>\n",
       "  </thead>\n",
       "  <tbody>\n",
       "    <tr>\n",
       "      <th>1982-08-20</th>\n",
       "      <td>3459.0</td>\n",
       "      <td>NaN</td>\n",
       "      <td>NaN</td>\n",
       "    </tr>\n",
       "    <tr>\n",
       "      <th>1982-08-27</th>\n",
       "      <td>3354.0</td>\n",
       "      <td>NaN</td>\n",
       "      <td>NaN</td>\n",
       "    </tr>\n",
       "    <tr>\n",
       "      <th>1982-09-24</th>\n",
       "      <td>3494.0</td>\n",
       "      <td>NaN</td>\n",
       "      <td>NaN</td>\n",
       "    </tr>\n",
       "    <tr>\n",
       "      <th>1982-10-01</th>\n",
       "      <td>2954.0</td>\n",
       "      <td>NaN</td>\n",
       "      <td>NaN</td>\n",
       "    </tr>\n",
       "    <tr>\n",
       "      <th>1982-10-08</th>\n",
       "      <td>3008.0</td>\n",
       "      <td>NaN</td>\n",
       "      <td>NaN</td>\n",
       "    </tr>\n",
       "  </tbody>\n",
       "</table>\n",
       "</div>"
      ],
      "text/plain": [
       "            Weekly U.S. Commercial Crude Oil Imports Excluding SPR  (Thousand Barrels per Day)  \\\n",
       "Date                                                                                             \n",
       "1982-08-20                                             3459.0                                    \n",
       "1982-08-27                                             3354.0                                    \n",
       "1982-09-24                                             3494.0                                    \n",
       "1982-10-01                                             2954.0                                    \n",
       "1982-10-08                                             3008.0                                    \n",
       "\n",
       "            Weekly U.S. Exports of Crude Oil and Petroleum Products  (Thousand Barrels per Day)  \\\n",
       "Date                                                                                              \n",
       "1982-08-20                                                NaN                                     \n",
       "1982-08-27                                                NaN                                     \n",
       "1982-09-24                                                NaN                                     \n",
       "1982-10-01                                                NaN                                     \n",
       "1982-10-08                                                NaN                                     \n",
       "\n",
       "            Weekly U.S. Product Supplied of Petroleum Products  (Thousand Barrels per Day)  \n",
       "Date                                                                                        \n",
       "1982-08-20                                                NaN                               \n",
       "1982-08-27                                                NaN                               \n",
       "1982-09-24                                                NaN                               \n",
       "1982-10-01                                                NaN                               \n",
       "1982-10-08                                                NaN                               "
      ]
     },
     "execution_count": 11,
     "metadata": {},
     "output_type": "execute_result"
    }
   ],
   "source": [
    "model_data_predictors.head()"
   ]
  },
  {
   "cell_type": "markdown",
   "metadata": {},
   "source": [
    "Let's put the predictos and response together in order to clean it up a bit more for some statistical analysis."
   ]
  },
  {
   "cell_type": "code",
   "execution_count": 12,
   "metadata": {},
   "outputs": [],
   "source": [
    "model_data = pd.concat((model_data_predictors, prices), axis = 1)"
   ]
  },
  {
   "cell_type": "code",
   "execution_count": 13,
   "metadata": {},
   "outputs": [],
   "source": [
    "model_data.dropna(inplace = True)"
   ]
  },
  {
   "cell_type": "code",
   "execution_count": 14,
   "metadata": {},
   "outputs": [],
   "source": [
    "model_prices = model_data[\"Cushing, OK WTI Spot Price FOB (Dollars per Barrel)\"]"
   ]
  },
  {
   "cell_type": "code",
   "execution_count": 15,
   "metadata": {},
   "outputs": [],
   "source": [
    "model_predictors = model_data.drop(\"Cushing, OK WTI Spot Price FOB (Dollars per Barrel)\", axis = 1)"
   ]
  },
  {
   "cell_type": "code",
   "execution_count": 16,
   "metadata": {},
   "outputs": [
    {
     "data": {
      "text/plain": [
       "Date\n",
       "1991-02-08    21.78\n",
       "1991-02-15    20.73\n",
       "1991-02-22    17.43\n",
       "1991-03-01    19.43\n",
       "1991-03-08    19.34\n",
       "Name: Cushing, OK WTI Spot Price FOB (Dollars per Barrel), dtype: float64"
      ]
     },
     "execution_count": 16,
     "metadata": {},
     "output_type": "execute_result"
    }
   ],
   "source": [
    "model_prices.head()"
   ]
  },
  {
   "cell_type": "code",
   "execution_count": 17,
   "metadata": {},
   "outputs": [
    {
     "data": {
      "text/html": [
       "<div>\n",
       "<style scoped>\n",
       "    .dataframe tbody tr th:only-of-type {\n",
       "        vertical-align: middle;\n",
       "    }\n",
       "\n",
       "    .dataframe tbody tr th {\n",
       "        vertical-align: top;\n",
       "    }\n",
       "\n",
       "    .dataframe thead th {\n",
       "        text-align: right;\n",
       "    }\n",
       "</style>\n",
       "<table border=\"1\" class=\"dataframe\">\n",
       "  <thead>\n",
       "    <tr style=\"text-align: right;\">\n",
       "      <th></th>\n",
       "      <th>Weekly U.S. Commercial Crude Oil Imports Excluding SPR  (Thousand Barrels per Day)</th>\n",
       "      <th>Weekly U.S. Exports of Crude Oil and Petroleum Products  (Thousand Barrels per Day)</th>\n",
       "      <th>Weekly U.S. Product Supplied of Petroleum Products  (Thousand Barrels per Day)</th>\n",
       "      <th>Cushing, OK WTI Spot Price FOB (Dollars per Barrel)</th>\n",
       "    </tr>\n",
       "    <tr>\n",
       "      <th>Date</th>\n",
       "      <th></th>\n",
       "      <th></th>\n",
       "      <th></th>\n",
       "      <th></th>\n",
       "    </tr>\n",
       "  </thead>\n",
       "  <tbody>\n",
       "    <tr>\n",
       "      <th>1991-02-08</th>\n",
       "      <td>5542.0</td>\n",
       "      <td>1224.0</td>\n",
       "      <td>16067.0</td>\n",
       "      <td>21.78</td>\n",
       "    </tr>\n",
       "    <tr>\n",
       "      <th>1991-02-15</th>\n",
       "      <td>5527.0</td>\n",
       "      <td>1224.0</td>\n",
       "      <td>15627.0</td>\n",
       "      <td>20.73</td>\n",
       "    </tr>\n",
       "    <tr>\n",
       "      <th>1991-02-22</th>\n",
       "      <td>4934.0</td>\n",
       "      <td>1510.0</td>\n",
       "      <td>15414.0</td>\n",
       "      <td>17.43</td>\n",
       "    </tr>\n",
       "    <tr>\n",
       "      <th>1991-03-01</th>\n",
       "      <td>4983.0</td>\n",
       "      <td>1510.0</td>\n",
       "      <td>16997.0</td>\n",
       "      <td>19.43</td>\n",
       "    </tr>\n",
       "    <tr>\n",
       "      <th>1991-03-08</th>\n",
       "      <td>5430.0</td>\n",
       "      <td>1025.0</td>\n",
       "      <td>16982.0</td>\n",
       "      <td>19.34</td>\n",
       "    </tr>\n",
       "  </tbody>\n",
       "</table>\n",
       "</div>"
      ],
      "text/plain": [
       "            Weekly U.S. Commercial Crude Oil Imports Excluding SPR  (Thousand Barrels per Day)  \\\n",
       "Date                                                                                             \n",
       "1991-02-08                                             5542.0                                    \n",
       "1991-02-15                                             5527.0                                    \n",
       "1991-02-22                                             4934.0                                    \n",
       "1991-03-01                                             4983.0                                    \n",
       "1991-03-08                                             5430.0                                    \n",
       "\n",
       "            Weekly U.S. Exports of Crude Oil and Petroleum Products  (Thousand Barrels per Day)  \\\n",
       "Date                                                                                              \n",
       "1991-02-08                                             1224.0                                     \n",
       "1991-02-15                                             1224.0                                     \n",
       "1991-02-22                                             1510.0                                     \n",
       "1991-03-01                                             1510.0                                     \n",
       "1991-03-08                                             1025.0                                     \n",
       "\n",
       "            Weekly U.S. Product Supplied of Petroleum Products  (Thousand Barrels per Day)  \\\n",
       "Date                                                                                         \n",
       "1991-02-08                                            16067.0                                \n",
       "1991-02-15                                            15627.0                                \n",
       "1991-02-22                                            15414.0                                \n",
       "1991-03-01                                            16997.0                                \n",
       "1991-03-08                                            16982.0                                \n",
       "\n",
       "            Cushing, OK WTI Spot Price FOB (Dollars per Barrel)  \n",
       "Date                                                             \n",
       "1991-02-08                                              21.78    \n",
       "1991-02-15                                              20.73    \n",
       "1991-02-22                                              17.43    \n",
       "1991-03-01                                              19.43    \n",
       "1991-03-08                                              19.34    "
      ]
     },
     "execution_count": 17,
     "metadata": {},
     "output_type": "execute_result"
    }
   ],
   "source": [
    "model_data.head()"
   ]
  },
  {
   "cell_type": "markdown",
   "metadata": {},
   "source": [
    "More exploration using different data"
   ]
  },
  {
   "cell_type": "code",
   "execution_count": 18,
   "metadata": {},
   "outputs": [],
   "source": [
    "stockpiles = pd.read_csv(\"Weekly_Cushing_OK_Ending_Stocks_excluding_SPR_of_Crude_Oil.csv\", skiprows = 4)"
   ]
  },
  {
   "cell_type": "code",
   "execution_count": 19,
   "metadata": {},
   "outputs": [],
   "source": [
    "stockpiles.index = pd.to_datetime(stockpiles['Week of'])\n",
    "stockpiles.drop('Week of', axis = 1, inplace = True)"
   ]
  },
  {
   "cell_type": "code",
   "execution_count": 20,
   "metadata": {},
   "outputs": [],
   "source": [
    "stockpiles_prices = pd.concat((prices, stockpiles), sort = True)"
   ]
  },
  {
   "cell_type": "code",
   "execution_count": 21,
   "metadata": {},
   "outputs": [
    {
     "data": {
      "text/html": [
       "<div>\n",
       "<style scoped>\n",
       "    .dataframe tbody tr th:only-of-type {\n",
       "        vertical-align: middle;\n",
       "    }\n",
       "\n",
       "    .dataframe tbody tr th {\n",
       "        vertical-align: top;\n",
       "    }\n",
       "\n",
       "    .dataframe thead th {\n",
       "        text-align: right;\n",
       "    }\n",
       "</style>\n",
       "<table border=\"1\" class=\"dataframe\">\n",
       "  <thead>\n",
       "    <tr style=\"text-align: right;\">\n",
       "      <th></th>\n",
       "      <th>Cushing, OK WTI Spot Price FOB (Dollars per Barrel)</th>\n",
       "    </tr>\n",
       "    <tr>\n",
       "      <th>Date</th>\n",
       "      <th></th>\n",
       "    </tr>\n",
       "  </thead>\n",
       "  <tbody>\n",
       "    <tr>\n",
       "      <th>2004-04-12</th>\n",
       "      <td>37.79</td>\n",
       "    </tr>\n",
       "    <tr>\n",
       "      <th>2004-04-13</th>\n",
       "      <td>37.09</td>\n",
       "    </tr>\n",
       "    <tr>\n",
       "      <th>2004-04-14</th>\n",
       "      <td>36.62</td>\n",
       "    </tr>\n",
       "    <tr>\n",
       "      <th>2004-04-15</th>\n",
       "      <td>37.74</td>\n",
       "    </tr>\n",
       "    <tr>\n",
       "      <th>2004-04-16</th>\n",
       "      <td>37.70</td>\n",
       "    </tr>\n",
       "  </tbody>\n",
       "</table>\n",
       "</div>"
      ],
      "text/plain": [
       "            Cushing, OK WTI Spot Price FOB (Dollars per Barrel)\n",
       "Date                                                           \n",
       "2004-04-12                                              37.79  \n",
       "2004-04-13                                              37.09  \n",
       "2004-04-14                                              36.62  \n",
       "2004-04-15                                              37.74  \n",
       "2004-04-16                                              37.70  "
      ]
     },
     "execution_count": 21,
     "metadata": {},
     "output_type": "execute_result"
    }
   ],
   "source": [
    "prices[\"2004-04-09\":\"2019-08-19\"].head()"
   ]
  },
  {
   "cell_type": "markdown",
   "metadata": {},
   "source": [
    "Here, we're just combining the prices and stockpiles and prices dataframes and ordering the rows by date."
   ]
  },
  {
   "cell_type": "code",
   "execution_count": 22,
   "metadata": {},
   "outputs": [],
   "source": [
    "stockpiles = stockpiles.reindex(stockpiles.index[::-1])\n",
    "stockpiles.index.names = ['Date']\n",
    "stockpiles_prices = pd.concat((stockpiles[\"2004-04-09\":\"2019-08-19\"], prices[\"2004-04-09\":\"2019-08-19\"]), sort = True)"
   ]
  },
  {
   "cell_type": "code",
   "execution_count": 23,
   "metadata": {},
   "outputs": [],
   "source": [
    "stockpiles_prices = stockpiles_prices.sort_index()"
   ]
  },
  {
   "cell_type": "code",
   "execution_count": 24,
   "metadata": {},
   "outputs": [
    {
     "data": {
      "text/html": [
       "<div>\n",
       "<style scoped>\n",
       "    .dataframe tbody tr th:only-of-type {\n",
       "        vertical-align: middle;\n",
       "    }\n",
       "\n",
       "    .dataframe tbody tr th {\n",
       "        vertical-align: top;\n",
       "    }\n",
       "\n",
       "    .dataframe thead th {\n",
       "        text-align: right;\n",
       "    }\n",
       "</style>\n",
       "<table border=\"1\" class=\"dataframe\">\n",
       "  <thead>\n",
       "    <tr style=\"text-align: right;\">\n",
       "      <th></th>\n",
       "      <th>Cushing, OK WTI Spot Price FOB (Dollars per Barrel)</th>\n",
       "      <th>Weekly Cushing OK Ending Stocks excluding SPR of Crude Oil Thousand Barrels</th>\n",
       "    </tr>\n",
       "    <tr>\n",
       "      <th>Date</th>\n",
       "      <th></th>\n",
       "      <th></th>\n",
       "    </tr>\n",
       "  </thead>\n",
       "  <tbody>\n",
       "    <tr>\n",
       "      <th>2004-04-09</th>\n",
       "      <td>NaN</td>\n",
       "      <td>11677.0</td>\n",
       "    </tr>\n",
       "    <tr>\n",
       "      <th>2004-04-12</th>\n",
       "      <td>37.79</td>\n",
       "      <td>NaN</td>\n",
       "    </tr>\n",
       "    <tr>\n",
       "      <th>2004-04-13</th>\n",
       "      <td>37.09</td>\n",
       "      <td>NaN</td>\n",
       "    </tr>\n",
       "    <tr>\n",
       "      <th>2004-04-14</th>\n",
       "      <td>36.62</td>\n",
       "      <td>NaN</td>\n",
       "    </tr>\n",
       "    <tr>\n",
       "      <th>2004-04-15</th>\n",
       "      <td>37.74</td>\n",
       "      <td>NaN</td>\n",
       "    </tr>\n",
       "  </tbody>\n",
       "</table>\n",
       "</div>"
      ],
      "text/plain": [
       "            Cushing, OK WTI Spot Price FOB (Dollars per Barrel)  \\\n",
       "Date                                                              \n",
       "2004-04-09                                                NaN     \n",
       "2004-04-12                                              37.79     \n",
       "2004-04-13                                              37.09     \n",
       "2004-04-14                                              36.62     \n",
       "2004-04-15                                              37.74     \n",
       "\n",
       "            Weekly Cushing OK Ending Stocks excluding SPR of Crude Oil Thousand Barrels  \n",
       "Date                                                                                     \n",
       "2004-04-09                                            11677.0                            \n",
       "2004-04-12                                                NaN                            \n",
       "2004-04-13                                                NaN                            \n",
       "2004-04-14                                                NaN                            \n",
       "2004-04-15                                                NaN                            "
      ]
     },
     "execution_count": 24,
     "metadata": {},
     "output_type": "execute_result"
    }
   ],
   "source": [
    "stockpiles_prices.head()"
   ]
  },
  {
   "cell_type": "markdown",
   "metadata": {},
   "source": [
    "Cleaning up the data and only including only rows where both columns have usable data."
   ]
  },
  {
   "cell_type": "code",
   "execution_count": 95,
   "metadata": {},
   "outputs": [
    {
     "data": {
      "text/plain": [
       "[<matplotlib.lines.Line2D at 0x1a385a16d8>]"
      ]
     },
     "execution_count": 95,
     "metadata": {},
     "output_type": "execute_result"
    },
    {
     "data": {
      "image/png": "[encoded data removed]",
      "text/plain": [
       "<Figure size 864x576 with 1 Axes>"
      ]
     },
     "metadata": {
      "needs_background": "light"
     },
     "output_type": "display_data"
    }
   ],
   "source": [
    "import numpy as np\n",
    "stockpiles_prices_fill = stockpiles_prices.groupby(stockpiles_prices.index).sum()\n",
    "stockpiles_prices = stockpiles_prices.groupby(stockpiles_prices.index).sum()\n",
    "stockpiles_prices.replace(0, np.nan, inplace = True)\n",
    "stockpiles_prices.dropna(inplace = True)\n",
    "plt.figure(figsize = (12,8))\n",
    "plt.plot(stockpiles_prices[\"Weekly Cushing OK Ending Stocks excluding SPR of Crude Oil Thousand Barrels\"])"
   ]
  },
  {
   "cell_type": "markdown",
   "metadata": {},
   "source": [
    "Now, we're adding the stockpiles data to the original dataframe to get four total predictors for our model."
   ]
  },
  {
   "cell_type": "code",
   "execution_count": 26,
   "metadata": {},
   "outputs": [],
   "source": [
    "model_data[\"Weekly Cushing OK Ending Stocks excluding SPR of Crude Oil Thousand Barrels\"] = stockpiles"
   ]
  },
  {
   "cell_type": "code",
   "execution_count": 27,
   "metadata": {},
   "outputs": [
    {
     "data": {
      "text/html": [
       "<div>\n",
       "<style scoped>\n",
       "    .dataframe tbody tr th:only-of-type {\n",
       "        vertical-align: middle;\n",
       "    }\n",
       "\n",
       "    .dataframe tbody tr th {\n",
       "        vertical-align: top;\n",
       "    }\n",
       "\n",
       "    .dataframe thead th {\n",
       "        text-align: right;\n",
       "    }\n",
       "</style>\n",
       "<table border=\"1\" class=\"dataframe\">\n",
       "  <thead>\n",
       "    <tr style=\"text-align: right;\">\n",
       "      <th></th>\n",
       "      <th>Weekly U.S. Commercial Crude Oil Imports Excluding SPR  (Thousand Barrels per Day)</th>\n",
       "      <th>Weekly U.S. Exports of Crude Oil and Petroleum Products  (Thousand Barrels per Day)</th>\n",
       "      <th>Weekly U.S. Product Supplied of Petroleum Products  (Thousand Barrels per Day)</th>\n",
       "      <th>Cushing, OK WTI Spot Price FOB (Dollars per Barrel)</th>\n",
       "      <th>Weekly Cushing OK Ending Stocks excluding SPR of Crude Oil Thousand Barrels</th>\n",
       "    </tr>\n",
       "    <tr>\n",
       "      <th>Date</th>\n",
       "      <th></th>\n",
       "      <th></th>\n",
       "      <th></th>\n",
       "      <th></th>\n",
       "      <th></th>\n",
       "    </tr>\n",
       "  </thead>\n",
       "  <tbody>\n",
       "    <tr>\n",
       "      <th>2004-04-16</th>\n",
       "      <td>9676.0</td>\n",
       "      <td>967.0</td>\n",
       "      <td>20051.0</td>\n",
       "      <td>37.70</td>\n",
       "      <td>12512.0</td>\n",
       "    </tr>\n",
       "    <tr>\n",
       "      <th>2004-04-23</th>\n",
       "      <td>10469.0</td>\n",
       "      <td>967.0</td>\n",
       "      <td>19553.0</td>\n",
       "      <td>37.22</td>\n",
       "      <td>12905.0</td>\n",
       "    </tr>\n",
       "    <tr>\n",
       "      <th>2004-04-30</th>\n",
       "      <td>9791.0</td>\n",
       "      <td>967.0</td>\n",
       "      <td>18932.0</td>\n",
       "      <td>37.31</td>\n",
       "      <td>12731.0</td>\n",
       "    </tr>\n",
       "    <tr>\n",
       "      <th>2004-05-07</th>\n",
       "      <td>9926.0</td>\n",
       "      <td>975.0</td>\n",
       "      <td>20706.0</td>\n",
       "      <td>39.98</td>\n",
       "      <td>13631.0</td>\n",
       "    </tr>\n",
       "    <tr>\n",
       "      <th>2004-05-14</th>\n",
       "      <td>9939.0</td>\n",
       "      <td>964.0</td>\n",
       "      <td>20606.0</td>\n",
       "      <td>41.42</td>\n",
       "      <td>14358.0</td>\n",
       "    </tr>\n",
       "  </tbody>\n",
       "</table>\n",
       "</div>"
      ],
      "text/plain": [
       "            Weekly U.S. Commercial Crude Oil Imports Excluding SPR  (Thousand Barrels per Day)  \\\n",
       "Date                                                                                             \n",
       "2004-04-16                                             9676.0                                    \n",
       "2004-04-23                                            10469.0                                    \n",
       "2004-04-30                                             9791.0                                    \n",
       "2004-05-07                                             9926.0                                    \n",
       "2004-05-14                                             9939.0                                    \n",
       "\n",
       "            Weekly U.S. Exports of Crude Oil and Petroleum Products  (Thousand Barrels per Day)  \\\n",
       "Date                                                                                              \n",
       "2004-04-16                                              967.0                                     \n",
       "2004-04-23                                              967.0                                     \n",
       "2004-04-30                                              967.0                                     \n",
       "2004-05-07                                              975.0                                     \n",
       "2004-05-14                                              964.0                                     \n",
       "\n",
       "            Weekly U.S. Product Supplied of Petroleum Products  (Thousand Barrels per Day)  \\\n",
       "Date                                                                                         \n",
       "2004-04-16                                            20051.0                                \n",
       "2004-04-23                                            19553.0                                \n",
       "2004-04-30                                            18932.0                                \n",
       "2004-05-07                                            20706.0                                \n",
       "2004-05-14                                            20606.0                                \n",
       "\n",
       "            Cushing, OK WTI Spot Price FOB (Dollars per Barrel)  \\\n",
       "Date                                                              \n",
       "2004-04-16                                              37.70     \n",
       "2004-04-23                                              37.22     \n",
       "2004-04-30                                              37.31     \n",
       "2004-05-07                                              39.98     \n",
       "2004-05-14                                              41.42     \n",
       "\n",
       "            Weekly Cushing OK Ending Stocks excluding SPR of Crude Oil Thousand Barrels  \n",
       "Date                                                                                     \n",
       "2004-04-16                                            12512.0                            \n",
       "2004-04-23                                            12905.0                            \n",
       "2004-04-30                                            12731.0                            \n",
       "2004-05-07                                            13631.0                            \n",
       "2004-05-14                                            14358.0                            "
      ]
     },
     "execution_count": 27,
     "metadata": {},
     "output_type": "execute_result"
    }
   ],
   "source": [
    "model_data.dropna().head()"
   ]
  },
  {
   "cell_type": "code",
   "execution_count": 28,
   "metadata": {},
   "outputs": [],
   "source": [
    "model_data.columns = [\"Imports\", \"Exports\", \"Consumption\", \"Price\", \"Stockpiles\"]\n",
    "model_data.dropna().to_csv(\"pca_data\")\n",
    "model_data.dropna(inplace = True)"
   ]
  },
  {
   "cell_type": "markdown",
   "metadata": {},
   "source": [
    "Now for some modelling and predictions."
   ]
  },
  {
   "cell_type": "code",
   "execution_count": 29,
   "metadata": {},
   "outputs": [],
   "source": [
    "features = model_data.drop(\"Price\", axis = 1)\n",
    "price = model_data[\"Price\"]\n",
    "features_list = list(features.columns)\n",
    "features = np.array(features)"
   ]
  },
  {
   "cell_type": "markdown",
   "metadata": {},
   "source": [
    "First, we have to establish a baseline error. For this, we will make predictions using a time-series forecasting method known as long short-term memory (LSTM) on all of the prices data."
   ]
  },
  {
   "cell_type": "code",
   "execution_count": 73,
   "metadata": {},
   "outputs": [],
   "source": [
    "from sklearn.preprocessing import MinMaxScaler\n",
    "scaler = MinMaxScaler(feature_range = (0, 1))\n",
    "\n",
    "prices_scaled = scaler.fit_transform(prices)"
   ]
  },
  {
   "cell_type": "code",
   "execution_count": 74,
   "metadata": {},
   "outputs": [],
   "source": [
    "prices = np.array(prices)\n",
    "prices_steps = []\n",
    "prices_labels = []\n",
    "for i in range(60, 7476):\n",
    "    prices_steps.append(prices_scaled[i-60:i, 0])\n",
    "    prices_labels.append(prices_scaled[i, 0])"
   ]
  },
  {
   "cell_type": "code",
   "execution_count": 75,
   "metadata": {},
   "outputs": [],
   "source": [
    "prices_steps, price_labels = np.array(prices_steps), np.array(prices_labels)\n",
    "prices_steps = np.reshape(prices_steps, (prices_steps.shape[0], prices_steps.shape[1], 1))"
   ]
  },
  {
   "cell_type": "code",
   "execution_count": 76,
   "metadata": {},
   "outputs": [],
   "source": [
    "import keras\n",
    "from keras.models import Sequential\n",
    "from keras.layers import Dense\n",
    "from keras.layers import LSTM\n",
    "from keras.layers import Dropout"
   ]
  },
  {
   "cell_type": "code",
   "execution_count": 77,
   "metadata": {},
   "outputs": [],
   "source": [
    "model = Sequential()\n",
    "model.add(LSTM(50, return_sequences = True, input_shape = (prices_steps.shape[1], 1)))\n",
    "model.add(Dropout(.2))\n",
    "model.add(LSTM(units=50, return_sequences=True))\n",
    "model.add(Dropout(0.2))\n",
    "model.add(LSTM(units=50, return_sequences=True))\n",
    "model.add(Dropout(0.2))\n",
    "model.add(LSTM(units=50))\n",
    "model.add(Dropout(0.2))\n",
    "model.add(Dense(units = 1))\n",
    "model.compile(optimizer = 'adam', loss = 'mean_squared_error')"
   ]
  },
  {
   "cell_type": "code",
   "execution_count": 78,
   "metadata": {},
   "outputs": [
    {
     "name": "stdout",
     "output_type": "stream",
     "text": [
      "WARNING:tensorflow:From /Users/andrew/anaconda3/lib/python3.7/site-packages/tensorflow/python/ops/math_grad.py:1250: add_dispatch_support.<locals>.wrapper (from tensorflow.python.ops.array_ops) is deprecated and will be removed in a future version.\n",
      "Instructions for updating:\n",
      "Use tf.where in 2.0, which has the same broadcast rule as np.where\n",
      "WARNING:tensorflow:From /Users/andrew/anaconda3/lib/python3.7/site-packages/keras/backend/tensorflow_backend.py:1033: The name tf.assign_add is deprecated. Please use tf.compat.v1.assign_add instead.\n",
      "\n",
      "Epoch 1/1\n",
      "7416/7416 [==============================] - 36s 5ms/step - loss: 0.0048\n"
     ]
    },
    {
     "data": {
      "text/plain": [
       "<keras.callbacks.History at 0x1a385a18d0>"
      ]
     },
     "execution_count": 78,
     "metadata": {},
     "output_type": "execute_result"
    }
   ],
   "source": [
    "model.fit(prices_steps, prices_labels, epochs = 1, batch_size = 32)"
   ]
  },
  {
   "cell_type": "code",
   "execution_count": 94,
   "metadata": {},
   "outputs": [],
   "source": [
    "test_prices = []\n",
    "for i in range(7476, 8476):\n",
    "    test_prices.append(prices_scaled[i-60:i, 0])\n",
    "\n",
    "test_prices = np.array(test_prices)\n",
    "test_prices = np.reshape(test_prices, (test_prices.shape[0], test_prices.shape[1], 1))"
   ]
  },
  {
   "cell_type": "code",
   "execution_count": 113,
   "metadata": {},
   "outputs": [],
   "source": [
    "predictions = model.predict(test_prices)\n",
    "predictions = scaler.inverse_transform(predictions)"
   ]
  },
  {
   "cell_type": "code",
   "execution_count": 117,
   "metadata": {},
   "outputs": [
    {
     "data": {
      "image/png": "[encoded data removed]",
      "text/plain": [
       "<Figure size 936x648 with 1 Axes>"
      ]
     },
     "metadata": {
      "needs_background": "light"
     },
     "output_type": "display_data"
    }
   ],
   "source": [
    "plt.figure(figsize = (13,9))\n",
    "plt.plot(prices[7476:8476], color = 'blue', label = 'Actual WTI Prices')\n",
    "plt.plot(predictions, color = 'red', label = 'Predicted WTI Prices')\n",
    "plt.title('WTI Crude Oil Price Prediction')\n",
    "plt.xlabel('Index')\n",
    "plt.ylabel('Price')\n",
    "plt.legend()\n",
    "plt.show()"
   ]
  },
  {
   "cell_type": "code",
   "execution_count": 41,
   "metadata": {},
   "outputs": [
    {
     "data": {
      "text/plain": [
       "RandomForestRegressor(bootstrap=True, criterion='mse', max_depth=None,\n",
       "           max_features='auto', max_leaf_nodes=None,\n",
       "           min_impurity_decrease=0.0, min_impurity_split=None,\n",
       "           min_samples_leaf=1, min_samples_split=2,\n",
       "           min_weight_fraction_leaf=0.0, n_estimators=1000, n_jobs=None,\n",
       "           oob_score=False, random_state=42, verbose=0, warm_start=False)"
      ]
     },
     "execution_count": 41,
     "metadata": {},
     "output_type": "execute_result"
    }
   ],
   "source": [
    "from sklearn.model_selection import train_test_split\n",
    "from sklearn.ensemble import RandomForestRegressor\n",
    "\n",
    "train_features, test_features, train_price, test_price = train_test_split(features, price, test_size = .25, random_state = 1)\n",
    "rf = RandomForestRegressor(n_estimators = 1000, random_state = 42)\n",
    "rf.fit(train_features, train_price)"
   ]
  },
  {
   "cell_type": "code",
   "execution_count": 108,
   "metadata": {},
   "outputs": [
    {
     "data": {
      "text/plain": [
       "93.26"
      ]
     },
     "execution_count": 108,
     "metadata": {},
     "output_type": "execute_result"
    }
   ],
   "source": [
    "predictions_rf = rf.predict(test_features)\n",
    "errors = (predictions_rf - test_price) ** 2\n",
    "rss = round(np.mean(errors),2)\n",
    "rss\n",
    "abs_errors = abs(predictions_rf - test_price)\n",
    "mape = 100 * (abs_errors / predictions_rf)\n",
    "accuracy = round(100 - np.mean(mape), 2)\n",
    "accuracy"
   ]
  },
  {
   "cell_type": "code",
   "execution_count": null,
   "metadata": {},
   "outputs": [],
   "source": []
  },
  {
   "cell_type": "code",
   "execution_count": null,
   "metadata": {},
   "outputs": [],
   "source": []
  }
 ],
 "metadata": {
  "kernelspec": {
   "display_name": "Python 3",
   "language": "python",
   "name": "python3"
  },
  "language_info": {
   "codemirror_mode": {
    "name": "ipython",
    "version": 3
   },
   "file_extension": ".py",
   "mimetype": "text/x-python",
   "name": "python",
   "nbconvert_exporter": "python",
   "pygments_lexer": "ipython3",
   "version": "3.7.3"
  }
 },
 "nbformat": 4,
 "nbformat_minor": 2
}
